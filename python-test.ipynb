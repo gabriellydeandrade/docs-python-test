{
 "cells": [
  {
   "cell_type": "markdown",
   "metadata": {
    "slideshow": {
     "slide_type": "slide"
    }
   },
   "source": [
    "# Testes em Python - Uma Breve Introdução\n",
    "\n",
    "(Esse material não é só sobre testes)\n"
   ]
  },
  {
   "cell_type": "markdown",
   "metadata": {
    "slideshow": {
     "slide_type": "slide"
    }
   },
   "source": [
    "Escrever testes em Python vai muito além do que somente escrever cenários para validar que o código faça o que deveria fazer. O teste também nos ajuda a:\n",
    "\n",
    "- Deixar o código mais limpo\n",
    "- Servir como documentação\n",
    "- Garantir maior manutenção do código\n",
    "- Evitar trabalho manual (um teste automatizado é muito melhor do que um teste manual com *print*)\n",
    "- Corrigir bug's\n",
    "\n"
   ]
  },
  {
   "cell_type": "markdown",
   "metadata": {
    "slideshow": {
     "slide_type": "slide"
    }
   },
   "source": [
    "## Usar ou não TDD?\n",
    "\n",
    "Test Driven Development (TDD) se refere a escrever o teste antes de programar\n",
    "\n",
    "\n",
    "https://imasters.com.br/agile/7-motivos-por-que-tdd-falhou-em-ser-mais-utilizado\n"
   ]
  },
  {
   "cell_type": "markdown",
   "metadata": {
    "slideshow": {
     "slide_type": "slide"
    }
   },
   "source": [
    "## Usar ou não Doctest?\n",
    "\n",
    "Escreva seu teste como uma documentação Python\n",
    "\n",
    "https://docs.python.org/3/library/doctest.html\n",
    "\n"
   ]
  },
  {
   "cell_type": "code",
   "execution_count": null,
   "metadata": {
    "slideshow": {
     "slide_type": "subslide"
    }
   },
   "outputs": [],
   "source": [
    "def square(x):\n",
    "    \"\"\"Return the square of x.\n",
    "\n",
    "    >>> square(2)\n",
    "    4\n",
    "    >>> square(-2)\n",
    "    4\n",
    "    \"\"\"\n",
    "\n",
    "    return x * x\n",
    "\n",
    "\n",
    "if __name__ == '__main__':\n",
    "    import doctest\n",
    "    doctest.testmod()"
   ]
  },
  {
   "cell_type": "code",
   "execution_count": null,
   "metadata": {
    "slideshow": {
     "slide_type": "subslide"
    }
   },
   "outputs": [],
   "source": [
    "def square(x):\n",
    "    \"\"\"Return the square of x.\n",
    "\n",
    "    >>> square(3)\n",
    "    4\n",
    "    >>> square(-2)\n",
    "    4\n",
    "    \"\"\"\n",
    "\n",
    "    return x * x\n",
    "\n",
    "\n",
    "if __name__ == '__main__':\n",
    "    import doctest\n",
    "    doctest.testmod()"
   ]
  },
  {
   "cell_type": "markdown",
   "metadata": {
    "slideshow": {
     "slide_type": "slide"
    }
   },
   "source": [
    "## Escrevendo teste unitário\n",
    "\n",
    "A biblioteca mais clássica para nos ajudar com os testes será a [unittest](https://docs.python.org/3.4/library/unittest.html)"
   ]
  },
  {
   "cell_type": "markdown",
   "metadata": {
    "slideshow": {
     "slide_type": "slide"
    }
   },
   "source": [
    "## Alguns exemplos\n"
   ]
  },
  {
   "cell_type": "code",
   "execution_count": null,
   "metadata": {
    "slideshow": {
     "slide_type": "-"
    }
   },
   "outputs": [
    {
     "name": "stdout",
     "output_type": "stream",
     "text": [
      "[NbConvertApp] Converting notebook python-test.ipynb to slides\n",
      "[NbConvertApp] Writing 283876 bytes to python-test.slides.html\n",
      "[NbConvertApp] Redirecting reveal.js requests to https://cdnjs.cloudflare.com/ajax/libs/reveal.js/3.5.0\n",
      "Serving your slides at http://127.0.0.1:8000/python-test.slides.html\n",
      "Use Control-C to stop this server\n",
      "WARNING:tornado.access:404 GET /custom.css (127.0.0.1) 0.41ms\n",
      "WARNING:tornado.access:404 GET /custom.css (127.0.0.1) 0.31ms\n"
     ]
    }
   ],
   "source": [
    "!jupyter nbconvert python-test.ipynb --to slides --post serve --template output_toggle"
   ]
  },
  {
   "cell_type": "code",
   "execution_count": null,
   "metadata": {},
   "outputs": [],
   "source": []
  }
 ],
 "metadata": {
  "celltoolbar": "Slideshow",
  "kernelspec": {
   "display_name": "Python 3",
   "language": "python",
   "name": "python3"
  },
  "language_info": {
   "codemirror_mode": {
    "name": "ipython",
    "version": 3
   },
   "file_extension": ".py",
   "mimetype": "text/x-python",
   "name": "python",
   "nbconvert_exporter": "python",
   "pygments_lexer": "ipython3",
   "version": "3.7.3"
  }
 },
 "nbformat": 4,
 "nbformat_minor": 4
}
