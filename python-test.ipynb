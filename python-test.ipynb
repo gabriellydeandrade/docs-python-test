{
 "cells": [
  {
   "cell_type": "markdown",
   "metadata": {
    "slideshow": {
     "slide_type": "slide"
    }
   },
   "source": [
    "# Testes em Python - Uma Breve Introdução\n",
    "\n",
    "(Esse material não é só sobre testes)\n"
   ]
  },
  {
   "cell_type": "markdown",
   "metadata": {
    "slideshow": {
     "slide_type": "slide"
    }
   },
   "source": [
    "## Roteiro\n",
    "\n",
    "- TDD\n",
    "- Doctest\n",
    "- Teste unitário (de unidade)\n",
    "- Conceitos básicos\n",
    "- Exemplos\n",
    "- Considerações adicionais\n",
    "- Outros tipos de testes relevantes"
   ]
  },
  {
   "cell_type": "markdown",
   "metadata": {
    "slideshow": {
     "slide_type": "slide"
    }
   },
   "source": [
    "Escrever testes em Python vai muito além do que somente escrever cenários para validar que o código faça o que deveria fazer. O teste também nos ajuda a:\n",
    "\n",
    "- Deixar o código mais limpo\n",
    "- Garantir maior manutenção do código\n",
    "- Servir como documentação\n",
    "- Evitar trabalho manual (um teste automatizado é muito melhor do que um teste manual com *print*)\n",
    "- Corrigir bug's\n",
    "\n"
   ]
  },
  {
   "cell_type": "markdown",
   "metadata": {
    "slideshow": {
     "slide_type": "slide"
    }
   },
   "source": [
    "## Usar ou não TDD?\n",
    "\n",
    "- Test Driven Development (TDD) se refere a escrever o teste antes de programar\n",
    "- Escreva o teste, faça ele passar e refatore\n",
    "\n",
    "\n",
    "https://imasters.com.br/agile/7-motivos-por-que-tdd-falhou-em-ser-mais-utilizado\n"
   ]
  },
  {
   "cell_type": "markdown",
   "metadata": {
    "slideshow": {
     "slide_type": "slide"
    }
   },
   "source": [
    "## Usar ou não Doctest?\n",
    "\n",
    "- Escreva seu teste como uma documentação Python\n",
    "\n",
    "https://docs.python.org/3/library/doctest.html\n",
    "\n"
   ]
  },
  {
   "cell_type": "markdown",
   "metadata": {
    "slideshow": {
     "slide_type": "slide"
    }
   },
   "source": [
    "```python\n",
    "  def square(x):\n",
    "        \"\"\"Return the square of x.\n",
    "\n",
    "        >>> square(2)\n",
    "        4\n",
    "        >>> square(-2)\n",
    "        4\n",
    "        \"\"\"\n",
    "\n",
    "        return x * x\n",
    "\n",
    "\n",
    "    if __name__ == '__main__':\n",
    "        import doctest\n",
    "        doctest.testmod()\n",
    "```\n",
    "  \n"
   ]
  },
  {
   "cell_type": "markdown",
   "metadata": {
    "slideshow": {
     "slide_type": "slide"
    }
   },
   "source": [
    " ```python\n",
    "   def square(x):\n",
    "        \"\"\"Return the square of x.\n",
    "\n",
    "        >>> square(3)\n",
    "        4\n",
    "        >>> square(-2)\n",
    "        4\n",
    "        \"\"\"\n",
    "\n",
    "        return x * x\n",
    "\n",
    "\n",
    "    if __name__ == '__main__':\n",
    "        import doctest\n",
    "        doctest.testmod()\n",
    "```  \n",
    "   "
   ]
  },
  {
   "cell_type": "code",
   "execution_count": 16,
   "metadata": {
    "scrolled": true,
    "slideshow": {
     "slide_type": "slide"
    }
   },
   "outputs": [
    {
     "name": "stdout",
     "output_type": "stream",
     "text": [
      "**********************************************************************\n",
      "File \"__main__\", line 4, in __main__.square\n",
      "Failed example:\n",
      "    square(3)\n",
      "Expected:\n",
      "    4\n",
      "Got:\n",
      "    9\n",
      "**********************************************************************\n",
      "1 items had failures:\n",
      "   1 of   2 in __main__.square\n",
      "***Test Failed*** 1 failures.\n"
     ]
    }
   ],
   "source": [
    "def square(x):\n",
    "    \"\"\"Return the square of x.\n",
    "\n",
    "    >>> square(3)\n",
    "    4\n",
    "    >>> square(-2)\n",
    "    4\n",
    "    \"\"\"\n",
    "\n",
    "    return x * x\n",
    "\n",
    "\n",
    "if __name__ == '__main__':\n",
    "    import doctest\n",
    "    doctest.testmod()"
   ]
  },
  {
   "cell_type": "markdown",
   "metadata": {
    "slideshow": {
     "slide_type": "slide"
    }
   },
   "source": [
    "## Teste unitário\n",
    "\n",
    "- Testar cada unidade do seu código\n",
    "- A biblioteca mais clássica para nos ajudar com os testes será a [unittest](https://docs.python.org/3.4/library/unittest.html)"
   ]
  },
  {
   "cell_type": "markdown",
   "metadata": {
    "slideshow": {
     "slide_type": "slide"
    }
   },
   "source": [
    "### Estrutura básica\n",
    "\n",
    "```python\n",
    "    import unittest\n",
    "\n",
    "    def square(x):\n",
    "        return x ** 2\n",
    "\n",
    "    class TestSquare(unittest.TestCase):\n",
    "        def test_if_returns_square_of_number(self):\n",
    "            result = square(2)\n",
    "            expected = 4\n",
    "\n",
    "            self.assertEqual(result, expected)\n",
    "\n",
    "    if __name__ == '__main__':\n",
    "        unittest.main()\n",
    " ```    "
   ]
  },
  {
   "cell_type": "markdown",
   "metadata": {
    "slideshow": {
     "slide_type": "slide"
    }
   },
   "source": [
    "# Alguns conceitos\n",
    "\n"
   ]
  },
  {
   "cell_type": "markdown",
   "metadata": {
    "slideshow": {
     "slide_type": "slide"
    }
   },
   "source": [
    "## Cenário de Testes\n",
    "\n",
    "- Preparar o ambiente para o teste rodar (fixture)\n",
    "- Pode conter o uso dos métodos setUp() e tearDown(): https://riptutorial.com/python/example/13280/test-setup-and-teardown-within-a-unittest-testcase\n",
    "\n",
    "\n"
   ]
  },
  {
   "cell_type": "markdown",
   "metadata": {
    "slideshow": {
     "slide_type": "slide"
    }
   },
   "source": [
    "## Asserções\n",
    "\n",
    "Valide que o cenário do seu código ocorreu como esperado\n",
    "\n",
    "https://docs.python.org/3/library/unittest.html#assert-methods"
   ]
  },
  {
   "cell_type": "markdown",
   "metadata": {
    "slideshow": {
     "slide_type": "slide"
    }
   },
   "source": [
    "## Mock\n",
    "\n",
    "Simulando um comportamento\n",
    "\n",
    "https://docs.python.org/3/library/unittest.mock.html\n",
    "\n",
    "\n"
   ]
  },
  {
   "cell_type": "markdown",
   "metadata": {
    "slideshow": {
     "slide_type": "slide"
    }
   },
   "source": [
    "## Coverage\n",
    "\n",
    "Cobertura de testes\n",
    "\n",
    "https://coverage.readthedocs.io/en/coverage-5.0.3/cmd.html"
   ]
  },
  {
   "cell_type": "markdown",
   "metadata": {
    "slideshow": {
     "slide_type": "slide"
    }
   },
   "source": [
    "# Exemplos\n",
    "\n",
    "Show me the code!\n",
    "\n",
    "![Show me the code](https://media.giphy.com/media/q6RoNkLlFNjaw/giphy.gif)\n",
    "\n"
   ]
  },
  {
   "cell_type": "markdown",
   "metadata": {
    "slideshow": {
     "slide_type": "slide"
    }
   },
   "source": [
    "### Pontos Relevantes\n",
    "\n",
    "- Divida para conquistar: Mantenha a estrutura de arquivos organizadas. Se um projeto é grande, é sempre uma boa prática dividir em arquivos menores (isso facilita a manutenção e legibilidade)\n",
    "- Um teste também deve ser limpo igual ao código principal (Clean Code - Robert C. Martin)\n",
    "- Use nomes descritivos para as funções de teste, mesmo que seja um nome muito longo\n",
    "- Pense em corner cases (cenários fora do padrão esperado)\n"
   ]
  },
  {
   "cell_type": "markdown",
   "metadata": {
    "slideshow": {
     "slide_type": "slide"
    }
   },
   "source": [
    "# Errors should never pass silently"
   ]
  },
  {
   "cell_type": "markdown",
   "metadata": {
    "slideshow": {
     "slide_type": "subslide"
    }
   },
   "source": [
    "## Zen of Python (PEP 20)\n",
    "\n",
    "https://www.python.org/dev/peps/pep-0020/#id3"
   ]
  },
  {
   "cell_type": "markdown",
   "metadata": {
    "slideshow": {
     "slide_type": "subslide"
    }
   },
   "source": [
    "## PEP (Python Enhancement Proposals)\n",
    "\n",
    "https://www.python.org/dev/peps/\n",
    "\n",
    "\n",
    "- PEP 8 (Style Guide)\n",
    "- PEP 20 (Zen of Python)\n",
    "- PEP 483 e PEP 484 (Type Hint)\n",
    "- [...]"
   ]
  },
  {
   "cell_type": "markdown",
   "metadata": {
    "slideshow": {
     "slide_type": "slide"
    }
   },
   "source": [
    "### Considerações Adicionais\n",
    "\n",
    "- Faça bom uso dos [logs](https://docs.python.org/3/library/logging.html) ao invés dos prints. [Para debbugar, existe um nível de log específico para isso](https://docs.python.org/3/library/logging.html#logging.Logger.debug) \n",
    "- [Typehint ajuda na leitura do código](https://medium.com/@diogommartins/python-3-e-type-hints-40e80a9e8214) \n",
    "- Escrever em pequenas unidades ajudam a testar o código e a melhorar sua clareza\n",
    "- Nem sempre um código com menos linhas é melhor\n",
    "- Refatore: Sempre que puder melhorar seu código melhore! (Lema de escoteiro)"
   ]
  },
  {
   "cell_type": "markdown",
   "metadata": {
    "slideshow": {
     "slide_type": "slide"
    }
   },
   "source": [
    "### \"Um bom código não surge do nada. [...] Para ter um bom código é preciso trabalhar nele. Arduamente. E você só terá um código bom se realmente se importar com códigos bons.\"\n",
    "\n",
    "Como Ser Um Programador Melhor: um Manual Para Programadores que se Importam com Código (Pete Goodliffe)"
   ]
  },
  {
   "cell_type": "markdown",
   "metadata": {
    "slideshow": {
     "slide_type": "slide"
    }
   },
   "source": [
    "## Também existem outros tipos de testes"
   ]
  },
  {
   "cell_type": "markdown",
   "metadata": {
    "slideshow": {
     "slide_type": "slide"
    }
   },
   "source": [
    "## Teste de integração\n",
    "\n",
    "- Permite testar a integração entre diferentes módulos da aplicação\n",
    "- Garante que todo o fluxo está funcionando conforme o esperado"
   ]
  },
  {
   "cell_type": "markdown",
   "metadata": {
    "slideshow": {
     "slide_type": "slide"
    }
   },
   "source": [
    "## Teste manual (teste de sistema)\n",
    "\n",
    "- Valida o comportamento em um ambiente próximo ao de produção (homologação ou staging)\n",
    "- Valida interação com usuário (quando houver) e validação das regras de negócio"
   ]
  },
  {
   "cell_type": "markdown",
   "metadata": {
    "slideshow": {
     "slide_type": "slide"
    }
   },
   "source": [
    "## Now is better than never.\n",
    "## Although never is often better than *right* now.\n",
    "\n",
    "[Zen of Python (PEP 20)](https://www.python.org/dev/peps/pep-0020/#id3)\n",
    "\n"
   ]
  },
  {
   "cell_type": "markdown",
   "metadata": {
    "slideshow": {
     "slide_type": "slide"
    }
   },
   "source": [
    "![the end](https://media.giphy.com/media/lD76yTC5zxZPG/giphy.gif)\n",
    "\n"
   ]
  },
  {
   "cell_type": "code",
   "execution_count": null,
   "metadata": {
    "slideshow": {
     "slide_type": "skip"
    }
   },
   "outputs": [
    {
     "name": "stdout",
     "output_type": "stream",
     "text": [
      "[NbConvertApp] Converting notebook python-test.ipynb to slides\n",
      "[NbConvertApp] Writing 295966 bytes to python-test.slides.html\n",
      "[NbConvertApp] Redirecting reveal.js requests to https://cdnjs.cloudflare.com/ajax/libs/reveal.js/3.5.0\n",
      "Serving your slides at http://127.0.0.1:8000/python-test.slides.html\n",
      "Use Control-C to stop this server\n",
      "WARNING:tornado.access:404 GET /custom.css (127.0.0.1) 1.79ms\n",
      "WARNING:tornado.access:404 GET /custom.css (127.0.0.1) 0.50ms\n"
     ]
    }
   ],
   "source": [
    "!jupyter nbconvert python-test.ipynb --to slides --post serve --template output_toggle"
   ]
  }
 ],
 "metadata": {
  "celltoolbar": "Slideshow",
  "kernelspec": {
   "display_name": "Python 3",
   "language": "python",
   "name": "python3"
  },
  "language_info": {
   "codemirror_mode": {
    "name": "ipython",
    "version": 3
   },
   "file_extension": ".py",
   "mimetype": "text/x-python",
   "name": "python",
   "nbconvert_exporter": "python",
   "pygments_lexer": "ipython3",
   "version": "3.7.3"
  }
 },
 "nbformat": 4,
 "nbformat_minor": 4
}
